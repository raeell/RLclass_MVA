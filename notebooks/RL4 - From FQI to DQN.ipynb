{
 "cells": [
  {
   "cell_type": "markdown",
   "id": "3c6b4bd5-8373-42cc-84d9-31b5860f7655",
   "metadata": {},
   "source": [
    "<a rel=\"license\" href=\"http://creativecommons.org/licenses/by-nc-sa/4.0/\"><img alt=\"Creative Commons License\" align=\"left\" src=\"https://i.creativecommons.org/l/by-nc-sa/4.0/80x15.png\" /></a>&nbsp;| [Emmanuel Rachelson](https://personnel.isae-supaero.fr/emmanuel-rachelson?lang=en) | <a href=\"https://erachelson.github.io/RLclass_MVA/\">https://erachelson.github.io/RLclass_MVA/</a>"
   ]
  },
  {
   "cell_type": "markdown",
   "id": "c20521c9-fe11-4dbc-b77d-42561a96b7e1",
   "metadata": {},
   "source": [
    "<div style=\"font-size:22pt; line-height:25pt; font-weight:bold; text-align:center;\">Chapter 4: From fitted Q-iteration to deep Q-networks</div>"
   ]
  },
  {
   "cell_type": "markdown",
   "id": "8a9092fe-8dcc-4fbc-a7c1-df9075090aa6",
   "metadata": {},
   "source": [
    "<div class=\"alert alert-success\">\n",
    "\n",
    "**Learning outcomes**   \n",
    "By the end of this chapter, you should be able to:\n",
    "- hello world\n",
    "\n",
    "Additionally, after doing the homework, you should be able to:\n",
    "- hello world\n",
    "</div>"
   ]
  },
  {
   "cell_type": "markdown",
   "id": "281a9cab-f286-4f64-b994-f65cbdd791d6",
   "metadata": {},
   "source": [
    "# Environments"
   ]
  },
  {
   "cell_type": "markdown",
   "id": "a1a86b5b-fbf5-4fa7-b4fc-b2128ceb5ab3",
   "metadata": {},
   "source": [
    "In this chapter, we depart from toy problems and dive into larger scale ones, with the intention to build approximate value iteration algorithms that scale to challenging environments.\n",
    "\n",
    "- cart-pole\n",
    "- swing-up\n",
    "- acrobot or lunar lander or bipedal walker (actions discretized)\n",
    "- pong"
   ]
  },
  {
   "cell_type": "markdown",
   "id": "4a08e737-c445-4240-9149-e746f4c9dc58",
   "metadata": {},
   "source": [
    "# Fitted Q-iteration"
   ]
  },
  {
   "cell_type": "markdown",
   "id": "f7fbb068-994d-45eb-9e4f-3d09fecec4a1",
   "metadata": {},
   "source": [
    "Recall AVI as series of RM problems.\n",
    "\n",
    "Discuss the use of offline regressors like RF. Used a lot in SL, but offline, so static $\\rho$, which requires rounds of data collection.\n",
    "\n",
    "Implement AVI with random forests and epsilon-greedy."
   ]
  },
  {
   "cell_type": "markdown",
   "id": "3c087212-c223-4307-aded-4c0aa93694d5",
   "metadata": {},
   "source": [
    "# Neural networks for AVI: deep Q-networks"
   ]
  },
  {
   "cell_type": "markdown",
   "id": "5aeffdac-73ec-4b06-a862-253186226357",
   "metadata": {},
   "source": [
    "Directly implement DQN with target network (but discuss the original version)."
   ]
  },
  {
   "cell_type": "markdown",
   "id": "4cf81ffa-98ba-4403-95a2-72a83bcd1638",
   "metadata": {},
   "source": [
    "# Making DQN more efficient\n",
    "\n",
    "Double Q-learning  \n",
    "n-step returns  \n",
    "PER (maybe LaBER)  \n",
    "distributional DQN (C51)"
   ]
  },
  {
   "cell_type": "markdown",
   "id": "b368d851-86ac-49cd-8bbf-b910d16b1fac",
   "metadata": {},
   "source": [
    "# Homework\n",
    "\n",
    "Implement the improvements on DQN"
   ]
  }
 ],
 "metadata": {
  "kernelspec": {
   "display_name": "Python 3 (ipykernel)",
   "language": "python",
   "name": "python3"
  },
  "language_info": {
   "codemirror_mode": {
    "name": "ipython",
    "version": 3
   },
   "file_extension": ".py",
   "mimetype": "text/x-python",
   "name": "python",
   "nbconvert_exporter": "python",
   "pygments_lexer": "ipython3",
   "version": "3.11.5"
  }
 },
 "nbformat": 4,
 "nbformat_minor": 5
}
